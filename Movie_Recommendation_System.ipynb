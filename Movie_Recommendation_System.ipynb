{
  "nbformat": 4,
  "nbformat_minor": 0,
  "metadata": {
    "colab": {
      "provenance": []
    },
    "kernelspec": {
      "name": "python3",
      "display_name": "Python 3"
    },
    "language_info": {
      "name": "python"
    }
  },
  "cells": [
    {
      "cell_type": "markdown",
      "source": [
        "# **Movie Recommendation System**"
      ],
      "metadata": {
        "id": "6vnZpUMcABXM"
      }
    },
    {
      "cell_type": "markdown",
      "source": [
        " # **1-) Libraries**\n"
      ],
      "metadata": {
        "id": "fOA7eIe9_656"
      }
    },
    {
      "cell_type": "code",
      "source": [
        "!pip install flask pyngrok pandas numpy scikit-learn"
      ],
      "metadata": {
        "id": "Poe7L0fSAAgu"
      },
      "execution_count": null,
      "outputs": []
    },
    {
      "cell_type": "code",
      "source": [
        "from flask import Flask, request, render_template_string\n",
        "from pyngrok import ngrok\n",
        "import pandas as pd\n",
        "import numpy as np\n",
        "import ast\n",
        "from sklearn.feature_extraction.text import TfidfVectorizer\n",
        "from sklearn.metrics.pairwise import cosine_similarity\n",
        "import logging\n",
        "\n",
        "logging.basicConfig(filename='recommendation_logs.log', level=logging.INFO, format='%(asctime)s - %(message)s')\n"
      ],
      "metadata": {
        "id": "6rCgxgFcATlK"
      },
      "execution_count": null,
      "outputs": []
    },
    {
      "cell_type": "markdown",
      "source": [
        "# **2-) Datasets**"
      ],
      "metadata": {
        "id": "l_UnSuTlAcHM"
      }
    },
    {
      "cell_type": "code",
      "source": [
        "from google.colab import files\n",
        "uploaded = files.upload()\n"
      ],
      "metadata": {
        "id": "OcnJOPiIAhR6"
      },
      "execution_count": null,
      "outputs": []
    },
    {
      "cell_type": "code",
      "source": [
        "movies = pd.read_csv('tmdb_5000_movies.csv')\n",
        "credits = pd.read_csv('tmdb_5000_credits.csv')\n",
        "\n",
        "movies = movies.merge(credits, left_on='id', right_on='movie_id', how='inner')\n",
        "\n",
        "movies = movies[['title_x', 'genres', 'keywords', 'overview', 'crew']]\n",
        "\n",
        "movies.rename(columns={'title_x': 'title'}, inplace=True)\n",
        "\n",
        "def parse_list_field(field):\n",
        "    try:\n",
        "        data = ast.literal_eval(field)\n",
        "        return \" \".join([d['name'].replace(\" \", \"\") for d in data])\n",
        "    except:\n",
        "        return \"\"\n",
        "\n",
        "def get_director(crew_str):\n",
        "    try:\n",
        "        data = ast.literal_eval(crew_str)\n",
        "        for c in data:\n",
        "            if c['job'] == 'Director':\n",
        "                return c['name'].replace(\" \", \"\")\n",
        "        return \"\"\n",
        "    except:\n",
        "        return \"\"\n",
        "\n",
        "movies['genres'] = movies['genres'].apply(parse_list_field)\n",
        "movies['keywords'] = movies['keywords'].apply(parse_list_field)\n",
        "movies['director'] = movies['crew'].apply(get_director)\n",
        "movies.drop('crew', axis=1, inplace=True)\n",
        "\n",
        "movies['combined_features'] = (\n",
        "    movies['genres'] + \" \" +\n",
        "    movies['keywords'] + \" \" +\n",
        "    movies['overview'] + \" \" +\n",
        "    movies['director']\n",
        ")\n",
        "\n",
        "movies.dropna(subset=['combined_features'], inplace=True)\n",
        "\n",
        "tfidf = TfidfVectorizer(stop_words='english')\n",
        "tfidf_matrix = tfidf.fit_transform(movies['combined_features'])\n",
        "\n",
        "cosine_sim = cosine_similarity(tfidf_matrix, tfidf_matrix)\n",
        "\n",
        "title_to_index = pd.Series(movies.index, index=movies['title']).drop_duplicates()\n"
      ],
      "metadata": {
        "id": "hfqBrEQOAwth"
      },
      "execution_count": null,
      "outputs": []
    },
    {
      "cell_type": "markdown",
      "source": [
        "# **3-) Recommendation Functions**"
      ],
      "metadata": {
        "id": "xiei8ECkB-nG"
      }
    },
    {
      "cell_type": "code",
      "source": [
        "def recommend_movies_for_one(movie_title, num_recs=5):\n",
        "    if movie_title not in title_to_index:\n",
        "        return [f\"Movie '{movie_title}' not found in the dataset!\"]\n",
        "\n",
        "    idx = title_to_index[movie_title]\n",
        "    sim_scores = list(enumerate(cosine_sim[idx]))\n",
        "    sim_scores = sorted(sim_scores, key=lambda x: x[1], reverse=True)\n",
        "    sim_scores = sim_scores[1:num_recs + 1]\n",
        "    movie_indices = [i[0] for i in sim_scores]\n",
        "    return movies['title'].iloc[movie_indices].tolist()\n"
      ],
      "metadata": {
        "id": "ccuXYMaBCEl1"
      },
      "execution_count": null,
      "outputs": []
    },
    {
      "cell_type": "code",
      "source": [
        "def recommend_movies_for_multiple(favorite_movies, num_recs=5):\n",
        "    valid_favorites = [m for m in favorite_movies if m in title_to_index]\n",
        "    if not valid_favorites:\n",
        "        return [\"No valid movies found in the dataset!\"]\n",
        "\n",
        "    sim_scores_sum = np.zeros(cosine_sim.shape[0])\n",
        "    for movie in valid_favorites:\n",
        "        idx = title_to_index[movie]\n",
        "        sim_scores_sum += cosine_sim[idx]\n",
        "\n",
        "    sim_scores_avg = sim_scores_sum / len(valid_favorites)\n",
        "    sim_scores_avg = list(enumerate(sim_scores_avg))\n",
        "    sim_scores_avg = sorted(sim_scores_avg, key=lambda x: x[1], reverse=True)\n",
        "\n",
        "    fav_indices = [title_to_index[m] for m in valid_favorites]\n",
        "    sim_scores_avg = [s for s in sim_scores_avg if s[0] not in fav_indices]\n",
        "\n",
        "    sim_scores_avg = sim_scores_avg[:num_recs]\n",
        "    movie_indices = [i[0] for i in sim_scores_avg]\n",
        "    return movies['title'].iloc[movie_indices].tolist()\n"
      ],
      "metadata": {
        "id": "aAY2McpLCJgc"
      },
      "execution_count": null,
      "outputs": []
    },
    {
      "cell_type": "markdown",
      "source": [
        "# **4-) Flask Integration with UI**"
      ],
      "metadata": {
        "id": "wHgAcZzlCQG5"
      }
    },
    {
      "cell_type": "code",
      "source": [
        "html_template = \"\"\"\n",
        "<!DOCTYPE html>\n",
        "<html>\n",
        "<head>\n",
        "  <title>Stylish Movie Recommendation System</title>\n",
        "  <style>\n",
        "    body {\n",
        "      font-family: 'Arial', sans-serif;\n",
        "      background-color: #f4f4f4;\n",
        "      margin: 0;\n",
        "      padding: 0;\n",
        "    }\n",
        "    .container {\n",
        "      max-width: 800px;\n",
        "      margin: 50px auto;\n",
        "      background: #ffffff;\n",
        "      padding: 30px;\n",
        "      box-shadow: 0 2px 10px rgba(0, 0, 0, 0.1);\n",
        "      border-radius: 8px;\n",
        "    }\n",
        "    h1 {\n",
        "      color: #333;\n",
        "      text-align: center;\n",
        "    }\n",
        "    form {\n",
        "      margin-top: 20px;\n",
        "      text-align: center;\n",
        "    }\n",
        "    input[type=\"text\"], input[type=\"number\"] {\n",
        "      padding: 10px;\n",
        "      width: 70%;\n",
        "      margin-bottom: 15px;\n",
        "      border: 1px solid #ddd;\n",
        "      border-radius: 5px;\n",
        "    }\n",
        "    input[type=\"submit\"] {\n",
        "      padding: 10px 20px;\n",
        "      background-color: #28a745;\n",
        "      color: #fff;\n",
        "      border: none;\n",
        "      border-radius: 5px;\n",
        "      cursor: pointer;\n",
        "      font-size: 16px;\n",
        "    }\n",
        "    input[type=\"submit\"]:hover {\n",
        "      background-color: #218838;\n",
        "    }\n",
        "    ul {\n",
        "      list-style: none;\n",
        "      padding: 0;\n",
        "    }\n",
        "    li {\n",
        "      background: #f9f9f9;\n",
        "      margin: 5px 0;\n",
        "      padding: 10px;\n",
        "      border: 1px solid #ddd;\n",
        "      border-radius: 5px;\n",
        "    }\n",
        "  </style>\n",
        "  <script>\n",
        "    function validateForm() {\n",
        "      const movies = document.forms[\"recommendForm\"][\"movies\"].value;\n",
        "      if (movies.trim() === \"\") {\n",
        "        alert(\"Please enter at least one movie!\");\n",
        "        return false;\n",
        "      }\n",
        "      return true;\n",
        "    }\n",
        "  </script>\n",
        "</head>\n",
        "<body>\n",
        "  <div class=\"container\">\n",
        "    <h1>Movie Recommendation System</h1>\n",
        "    <form name=\"recommendForm\" method=\"POST\" action=\"/recommend\" onsubmit=\"return validateForm()\">\n",
        "      <input type=\"text\" name=\"movies\" placeholder=\"Enter your favorite movies (comma-separated)\" required>\n",
        "      <input type=\"number\" name=\"num_recs\" value=\"5\" min=\"1\" max=\"20\" required>\n",
        "      <input type=\"submit\" value=\"Get Recommendations\">\n",
        "    </form>\n",
        "  </div>\n",
        "</body>\n",
        "</html>\n",
        "\"\"\"\n"
      ],
      "metadata": {
        "id": "4q-C2YMPCWZu"
      },
      "execution_count": null,
      "outputs": []
    },
    {
      "cell_type": "markdown",
      "source": [
        "# 5-) **Flask App Logic**"
      ],
      "metadata": {
        "id": "f75IlauiCe-T"
      }
    },
    {
      "cell_type": "code",
      "source": [
        "app = Flask(__name__)\n",
        "\n",
        "@app.route('/', methods=['GET'])\n",
        "def index():\n",
        "    return render_template_string(html_template)\n",
        "\n",
        "@app.route('/recommend', methods=['POST'])\n",
        "def recommend():\n",
        "    favs = request.form['movies']\n",
        "    num = int(request.form['num_recs'])\n",
        "    fav_list = [m.strip() for m in favs.split(',')]\n",
        "    recs = recommend_movies_for_multiple(fav_list, num)\n",
        "\n",
        "    logging.info(f\"User input: {favs} | Recommendations: {recs}\")\n",
        "\n",
        "    result_html = f\"\"\"\n",
        "    <div class=\"container\">\n",
        "      <h1>Recommendations</h1>\n",
        "      <ul>\n",
        "        {\"\".join(f\"<li>{r}</li>\" for r in recs)}\n",
        "      </ul>\n",
        "      <a href=\"/\">Go back</a>\n",
        "    </div>\n",
        "    \"\"\"\n",
        "    return result_html\n"
      ],
      "metadata": {
        "id": "9fE7ALKzCi1P"
      },
      "execution_count": null,
      "outputs": []
    },
    {
      "cell_type": "markdown",
      "source": [
        "# **6-) Flask App with ngrok**"
      ],
      "metadata": {
        "id": "Smyao5buCqsa"
      }
    },
    {
      "cell_type": "code",
      "source": [
        "!ngrok config add-authtoken 2q0BRuID0aPcAT3eNzDnSAr4Jo2_39W7cZ1tHUuQpYUfyvj9q"
      ],
      "metadata": {
        "id": "Cb6npvcIDLQa"
      },
      "execution_count": null,
      "outputs": []
    },
    {
      "cell_type": "code",
      "source": [
        "public_url = ngrok.connect(5000)\n",
        "print(\"Public URL:\", public_url)\n",
        "\n",
        "app.run(port=5000)\n"
      ],
      "metadata": {
        "id": "0ZepdscNFsao"
      },
      "execution_count": null,
      "outputs": []
    }
  ]
}